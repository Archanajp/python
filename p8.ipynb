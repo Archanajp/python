{
 "cells": [
  {
   "cell_type": "code",
   "execution_count": null,
   "metadata": {},
   "outputs": [],
   "source": [
    "#Archana jayaprakash#\n",
    "#cek19ecoo1#"
   ]
  },
  {
   "cell_type": "code",
   "execution_count": null,
   "metadata": {},
   "outputs": [],
   "source": []
  },
  {
   "cell_type": "code",
   "execution_count": 1,
   "metadata": {},
   "outputs": [
    {
     "name": "stdout",
     "output_type": "stream",
     "text": [
      "enter the number:28\n",
      "72\n",
      "the hexadecimal equivalent 48\n"
     ]
    }
   ],
   "source": [
    "x=input(\"enter the number:\")\n",
    "sum=0\n",
    "for i in range(len(x)):\n",
    "    r=int(x)%10\n",
    "    sum=sum+r*8**i\n",
    "x=int(x)//10\n",
    "n=sum\n",
    "print(n)\n",
    "sum1=0\n",
    "for i in range(len(str(n))):\n",
    "    r=n%16\n",
    "    n=n//16\n",
    "    sum1=sum1+r*10**i\n",
    "print(\"the hexadecimal equivalent\",sum1)"
   ]
  },
  {
   "cell_type": "code",
   "execution_count": null,
   "metadata": {},
   "outputs": [],
   "source": []
  }
 ],
 "metadata": {
  "kernelspec": {
   "display_name": "Python 3",
   "language": "python",
   "name": "python3"
  },
  "language_info": {
   "codemirror_mode": {
    "name": "ipython",
    "version": 3
   },
   "file_extension": ".py",
   "mimetype": "text/x-python",
   "name": "python",
   "nbconvert_exporter": "python",
   "pygments_lexer": "ipython3",
   "version": "3.8.3"
  }
 },
 "nbformat": 4,
 "nbformat_minor": 4
}
