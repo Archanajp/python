{
 "cells": [
  {
   "cell_type": "code",
   "execution_count": null,
   "metadata": {},
   "outputs": [],
   "source": [
    "#Archana Jayaprakash\n",
    "#cek19ec001"
   ]
  },
  {
   "cell_type": "code",
   "execution_count": 10,
   "metadata": {},
   "outputs": [
    {
     "name": "stdout",
     "output_type": "stream",
     "text": [
      "enter the year 19001\n",
      "19001 is not a leap year\n"
     ]
    }
   ],
   "source": [
    "x=int(input(\"enter the year \"))\n",
    "if(x % 4==0):\n",
    "    if(x % 100==0):\n",
    "        if(x % 400==0):\n",
    "            print(x,\"is a leap year\")\n",
    "        else:\n",
    "            print(x,\"is not a leap year\")\n",
    "    else:\n",
    "        print(x,\"is not a leap year\")\n",
    "else:\n",
    "    print(x,\"is not a leap year\")\n",
    "  "
   ]
  },
  {
   "cell_type": "code",
   "execution_count": null,
   "metadata": {},
   "outputs": [],
   "source": []
  }
 ],
 "metadata": {
  "kernelspec": {
   "display_name": "Python 3",
   "language": "python",
   "name": "python3"
  },
  "language_info": {
   "codemirror_mode": {
    "name": "ipython",
    "version": 3
   },
   "file_extension": ".py",
   "mimetype": "text/x-python",
   "name": "python",
   "nbconvert_exporter": "python",
   "pygments_lexer": "ipython3",
   "version": "3.8.3"
  }
 },
 "nbformat": 4,
 "nbformat_minor": 4
}
