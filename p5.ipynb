{
 "cells": [
  {
   "cell_type": "code",
   "execution_count": null,
   "metadata": {},
   "outputs": [],
   "source": [
    "#Archana jayaprakash\n",
    "#cek19ec001"
   ]
  },
  {
   "cell_type": "code",
   "execution_count": 7,
   "metadata": {},
   "outputs": [
    {
     "name": "stdout",
     "output_type": "stream",
     "text": [
      "enter the random numbers:365\n",
      "the sum of positive numbers : 14 the sum of negative numbers : 0\n"
     ]
    }
   ],
   "source": [
    "x=input(\"enter the random numbers:\")\n",
    "sumofnegativenum=0\n",
    "sumofpositivenum=0\n",
    "for i in range(0,len(x)):\n",
    "    j=int(x[i])\n",
    "    if j<0:\n",
    "        sumofnegativenum +=j\n",
    "    else:\n",
    "        sumofpositivenum +=j\n",
    "print(\"the sum of positive numbers :\",sumofpositivenum,\"the sum of negative numbers :\",sumofnegativenum)"
   ]
  },
  {
   "cell_type": "code",
   "execution_count": null,
   "metadata": {},
   "outputs": [],
   "source": []
  }
 ],
 "metadata": {
  "kernelspec": {
   "display_name": "Python 3",
   "language": "python",
   "name": "python3"
  },
  "language_info": {
   "codemirror_mode": {
    "name": "ipython",
    "version": 3
   },
   "file_extension": ".py",
   "mimetype": "text/x-python",
   "name": "python",
   "nbconvert_exporter": "python",
   "pygments_lexer": "ipython3",
   "version": "3.8.3"
  }
 },
 "nbformat": 4,
 "nbformat_minor": 4
}
