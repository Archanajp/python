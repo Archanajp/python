{
 "cells": [
  {
   "cell_type": "code",
   "execution_count": null,
   "metadata": {},
   "outputs": [],
   "source": [
    "#Archana Jayaprakash\n",
    "#cek19ecoo1"
   ]
  },
  {
   "cell_type": "code",
   "execution_count": null,
   "metadata": {},
   "outputs": [],
   "source": [
    "#A conference is a gathering of important people who singly can do nothing, but together can decide that nothing can be done.#"
   ]
  },
  {
   "cell_type": "code",
   "execution_count": 3,
   "metadata": {},
   "outputs": [
    {
     "name": "stdout",
     "output_type": "stream",
     "text": [
      "enter the stringA conference is a gathering of important people who singly can do nothing, but together can decide that nothing can be done.\n",
      "the string is not palindrome\n"
     ]
    }
   ],
   "source": [
    "x=input(\"enter the string\")\n",
    "flag=0\n",
    "for i in (x):\n",
    "    for j in range(len(x),len(x)//2 -1):\n",
    "        if(x[i]!=x[j]):\n",
    "            flag==1\n",
    "            break\n",
    "if (flag==1):\n",
    "    print(\"the string is palindrome\")\n",
    "else:\n",
    "    print(\"the string is not palindrome\")\n",
    "   "
   ]
  }
 ],
 "metadata": {
  "kernelspec": {
   "display_name": "Python 3",
   "language": "python",
   "name": "python3"
  },
  "language_info": {
   "codemirror_mode": {
    "name": "ipython",
    "version": 3
   },
   "file_extension": ".py",
   "mimetype": "text/x-python",
   "name": "python",
   "nbconvert_exporter": "python",
   "pygments_lexer": "ipython3",
   "version": "3.8.3"
  }
 },
 "nbformat": 4,
 "nbformat_minor": 4
}
