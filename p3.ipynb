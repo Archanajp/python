{
 "cells": [
  {
   "cell_type": "code",
   "execution_count": null,
   "metadata": {},
   "outputs": [],
   "source": [
    "#Archana Jayaprakash \n",
    "#cek19ec001"
   ]
  },
  {
   "cell_type": "code",
   "execution_count": 3,
   "metadata": {},
   "outputs": [
    {
     "name": "stdout",
     "output_type": "stream",
     "text": [
      "enter the string The Art of Love: knowing how to combine the temperament of a vampire with the discretion of an anemone.\n",
      "there are 19 words\n",
      "Vowels: 34\n",
      "Consonents:  51\n",
      "Symbols :  0\n"
     ]
    }
   ],
   "source": [
    "x=input(\"enter the string \")\n",
    "print(\"there are\",len(x.split()),\"words\")\n",
    "vowel=0\n",
    "consonent=0\n",
    "symbol=0\n",
    "space=0\n",
    "for i in range(0,len(x)):\n",
    "    if (x[i]=='a' or x[i]=='A' or x[i]=='e' or x[i]=='E' or x[i]=='i' or x[i]=='I' or x[i]=='o' or x[i]=='O' or x[i]=='u' or x[i]=='U' ):\n",
    "        vowel+=1\n",
    "    elif(x[i]=='@' or x[i]=='#' or x[i]=='$' or x[i]=='%'):\n",
    "        symbol+=1\n",
    "    elif(x[i]==' '):\n",
    "        space+=1\n",
    "    else:\n",
    "        consonent+=1\n",
    "print(\"Vowels:\",vowel);\n",
    "print(\"Consonents: \", consonent);\n",
    "print(\"Symbols : \", symbol);\n",
    "        "
   ]
  },
  {
   "cell_type": "code",
   "execution_count": null,
   "metadata": {},
   "outputs": [],
   "source": []
  }
 ],
 "metadata": {
  "kernelspec": {
   "display_name": "Python 3",
   "language": "python",
   "name": "python3"
  },
  "language_info": {
   "codemirror_mode": {
    "name": "ipython",
    "version": 3
   },
   "file_extension": ".py",
   "mimetype": "text/x-python",
   "name": "python",
   "nbconvert_exporter": "python",
   "pygments_lexer": "ipython3",
   "version": "3.8.3"
  }
 },
 "nbformat": 4,
 "nbformat_minor": 4
}
