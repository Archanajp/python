{
 "cells": [
  {
   "cell_type": "code",
   "execution_count": null,
   "metadata": {},
   "outputs": [],
   "source": [
    "#Archana Jayaprakash\n",
    "#cek19ec001"
   ]
  },
  {
   "cell_type": "code",
   "execution_count": null,
   "metadata": {},
   "outputs": [],
   "source": [
    "# password-3t7^vRr(S #"
   ]
  },
  {
   "cell_type": "code",
   "execution_count": 1,
   "metadata": {},
   "outputs": [
    {
     "name": "stdout",
     "output_type": "stream",
     "text": [
      "enter the password:3t7^vRr(S\n",
      "invalid password\n"
     ]
    }
   ],
   "source": [
    "x=input(\"enter the password:\")\n",
    "a=['a','b','c','d','e','f','g','h','i','g','h','i','j','k','l','m','n','o','p','q','r','s','t','t','u','v','w','x','y','z']\n",
    "b=[0,1,2,3,4,5,6,7,8,9]\n",
    "c=['A','B','C','D','E','F','G','H','I','J','K','L','M','N','O','P','Q','R','S','T','U','V','W','X','Y','Z']\n",
    "d=['$','#','@']\n",
    "count1=0\n",
    "count2=0\n",
    "count3=0\n",
    "count4=0\n",
    "if (len(x)>=8):\n",
    "    for i in x:\n",
    "        if i in a:\n",
    "            count1+=1\n",
    "        if i in b:\n",
    "            count2+=1\n",
    "            if i in c:\n",
    "                count3+=1\n",
    "                if i in d:\n",
    "                    count4+=1\n",
    "    if (count1==0 or count2==0 or count3==0 or count4==0):\n",
    "        print(\"invalid password\")\n",
    "    else:\n",
    "        print(\"valide password\")\n",
    "else:\n",
    "    print(\"invalide password\")"
   ]
  },
  {
   "cell_type": "code",
   "execution_count": null,
   "metadata": {},
   "outputs": [],
   "source": []
  }
 ],
 "metadata": {
  "kernelspec": {
   "display_name": "Python 3",
   "language": "python",
   "name": "python3"
  },
  "language_info": {
   "codemirror_mode": {
    "name": "ipython",
    "version": 3
   },
   "file_extension": ".py",
   "mimetype": "text/x-python",
   "name": "python",
   "nbconvert_exporter": "python",
   "pygments_lexer": "ipython3",
   "version": "3.8.3"
  }
 },
 "nbformat": 4,
 "nbformat_minor": 4
}
